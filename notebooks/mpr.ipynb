{
 "cells": [
  {
   "cell_type": "code",
   "execution_count": 1,
   "id": "0bef9466-e0ee-4a65-b9d8-7b6951db1dc4",
   "metadata": {},
   "outputs": [],
   "source": [
    "import pandas as pd"
   ]
  },
  {
   "cell_type": "code",
   "execution_count": 2,
   "id": "b21c0a99-c3d0-40a8-9632-a592beab0412",
   "metadata": {},
   "outputs": [],
   "source": [
    "df = pd.read_csv(\"../data/mpr_sensors.csv\")\n",
    "df = df.rename(columns={'ReadDatetime':'datetime'})"
   ]
  },
  {
   "cell_type": "code",
   "execution_count": 3,
   "id": "1e29df32-193c-4cce-a942-89df604070d6",
   "metadata": {},
   "outputs": [
    {
     "data": {
      "text/html": [
       "<div>\n",
       "<style scoped>\n",
       "    .dataframe tbody tr th:only-of-type {\n",
       "        vertical-align: middle;\n",
       "    }\n",
       "\n",
       "    .dataframe tbody tr th {\n",
       "        vertical-align: top;\n",
       "    }\n",
       "\n",
       "    .dataframe thead th {\n",
       "        text-align: right;\n",
       "    }\n",
       "</style>\n",
       "<table border=\"1\" class=\"dataframe\">\n",
       "  <thead>\n",
       "    <tr style=\"text-align: right;\">\n",
       "      <th></th>\n",
       "      <th>MPR</th>\n",
       "      <th>datetime</th>\n",
       "      <th>kWh</th>\n",
       "      <th>ReadType</th>\n",
       "    </tr>\n",
       "  </thead>\n",
       "  <tbody>\n",
       "    <tr>\n",
       "      <th>0</th>\n",
       "      <td>1.200000e+12</td>\n",
       "      <td>04/02/2023 00:00</td>\n",
       "      <td>26.6</td>\n",
       "      <td>Actual</td>\n",
       "    </tr>\n",
       "    <tr>\n",
       "      <th>1</th>\n",
       "      <td>1.200000e+12</td>\n",
       "      <td>04/02/2023 00:30</td>\n",
       "      <td>26.4</td>\n",
       "      <td>Actual</td>\n",
       "    </tr>\n",
       "    <tr>\n",
       "      <th>2</th>\n",
       "      <td>1.200000e+12</td>\n",
       "      <td>04/02/2023 01:00</td>\n",
       "      <td>25.8</td>\n",
       "      <td>Actual</td>\n",
       "    </tr>\n",
       "    <tr>\n",
       "      <th>3</th>\n",
       "      <td>1.200000e+12</td>\n",
       "      <td>04/02/2023 01:30</td>\n",
       "      <td>24.9</td>\n",
       "      <td>Actual</td>\n",
       "    </tr>\n",
       "    <tr>\n",
       "      <th>4</th>\n",
       "      <td>1.200000e+12</td>\n",
       "      <td>04/02/2023 02:00</td>\n",
       "      <td>25.9</td>\n",
       "      <td>Actual</td>\n",
       "    </tr>\n",
       "    <tr>\n",
       "      <th>...</th>\n",
       "      <td>...</td>\n",
       "      <td>...</td>\n",
       "      <td>...</td>\n",
       "      <td>...</td>\n",
       "    </tr>\n",
       "    <tr>\n",
       "      <th>187</th>\n",
       "      <td>1.200060e+12</td>\n",
       "      <td>05/02/2023 21:30</td>\n",
       "      <td>0.0</td>\n",
       "      <td>Actual</td>\n",
       "    </tr>\n",
       "    <tr>\n",
       "      <th>188</th>\n",
       "      <td>1.200060e+12</td>\n",
       "      <td>05/02/2023 22:00</td>\n",
       "      <td>0.0</td>\n",
       "      <td>Actual</td>\n",
       "    </tr>\n",
       "    <tr>\n",
       "      <th>189</th>\n",
       "      <td>1.200060e+12</td>\n",
       "      <td>05/02/2023 22:30</td>\n",
       "      <td>0.0</td>\n",
       "      <td>Actual</td>\n",
       "    </tr>\n",
       "    <tr>\n",
       "      <th>190</th>\n",
       "      <td>1.200060e+12</td>\n",
       "      <td>05/02/2023 23:00</td>\n",
       "      <td>0.0</td>\n",
       "      <td>Actual</td>\n",
       "    </tr>\n",
       "    <tr>\n",
       "      <th>191</th>\n",
       "      <td>1.200060e+12</td>\n",
       "      <td>05/02/2023 23:30</td>\n",
       "      <td>0.0</td>\n",
       "      <td>Actual</td>\n",
       "    </tr>\n",
       "  </tbody>\n",
       "</table>\n",
       "<p>192 rows × 4 columns</p>\n",
       "</div>"
      ],
      "text/plain": [
       "              MPR          datetime   kWh ReadType\n",
       "0    1.200000e+12  04/02/2023 00:00  26.6   Actual\n",
       "1    1.200000e+12  04/02/2023 00:30  26.4   Actual\n",
       "2    1.200000e+12  04/02/2023 01:00  25.8   Actual\n",
       "3    1.200000e+12  04/02/2023 01:30  24.9   Actual\n",
       "4    1.200000e+12  04/02/2023 02:00  25.9   Actual\n",
       "..            ...               ...   ...      ...\n",
       "187  1.200060e+12  05/02/2023 21:30   0.0   Actual\n",
       "188  1.200060e+12  05/02/2023 22:00   0.0   Actual\n",
       "189  1.200060e+12  05/02/2023 22:30   0.0   Actual\n",
       "190  1.200060e+12  05/02/2023 23:00   0.0   Actual\n",
       "191  1.200060e+12  05/02/2023 23:30   0.0   Actual\n",
       "\n",
       "[192 rows x 4 columns]"
      ]
     },
     "metadata": {},
     "output_type": "display_data"
    }
   ],
   "source": [
    "display(df)"
   ]
  },
  {
   "cell_type": "code",
   "execution_count": null,
   "id": "da47d70f-4ce6-4d64-ae70-175f34700f87",
   "metadata": {},
   "outputs": [],
   "source": []
  },
  {
   "cell_type": "code",
   "execution_count": 4,
   "id": "59bb2695-de47-4f3b-9151-ddf0d4c31cd4",
   "metadata": {},
   "outputs": [],
   "source": [
    "#converting time column to datetime and making time as index column\n",
    "df['datetime'] = pd.to_datetime(df['datetime'], format = '%d/%m/%Y %H:%M')"
   ]
  },
  {
   "cell_type": "code",
   "execution_count": 5,
   "id": "ba91f584-a630-40b6-b6ee-380ef992ff4a",
   "metadata": {},
   "outputs": [
    {
     "name": "stdout",
     "output_type": "stream",
     "text": [
      "The first date in the time series is 2023-02-04 00:00:00.\n",
      "The last date in the time series is 2023-02-05 23:30:00.\n"
     ]
    }
   ],
   "source": [
    "df = df.set_index(\"datetime\")\n",
    "# Find the first and last dates in the index of the DataFrame\n",
    "first_date = df.index.min()\n",
    "last_date = df.index.max()\n",
    "# Print the results\n",
    "print(\"The first date in the time series is {}.\".format(first_date))\n",
    "print(\"The last date in the time series is {}.\".format(last_date))"
   ]
  },
  {
   "cell_type": "code",
   "execution_count": 6,
   "id": "3f06c48b-a24d-4061-9d03-191b8dcb6293",
   "metadata": {},
   "outputs": [],
   "source": [
    "#aggregate to hourly\n",
    "df_mpr_hourly = df.resample('H').mean()"
   ]
  },
  {
   "cell_type": "markdown",
   "id": "e2175643-5f76-46f1-81fb-4399d38230a3",
   "metadata": {},
   "source": [
    "## Read weather data for these dates"
   ]
  },
  {
   "cell_type": "code",
   "execution_count": 7,
   "id": "bb082232-ff9d-40f0-930e-6c063eb272e9",
   "metadata": {},
   "outputs": [],
   "source": [
    "# Import Meteostat library and dependencies\n",
    "from datetime import datetime\n",
    "from meteostat import Hourly\n",
    "\n",
    "# Set time period\n",
    "start = datetime(2023, 2, 4)\n",
    "end = datetime(2023, 2, 5, 23, 59)\n",
    "\n",
    "# Get hourly data\n",
    "data = Hourly('03779', start, end)\n",
    "df_weather = data.fetch()"
   ]
  },
  {
   "cell_type": "markdown",
   "id": "44373fe9-b6c5-4f24-afdd-7d1fdc29970d",
   "metadata": {},
   "source": [
    "## Merging"
   ]
  },
  {
   "cell_type": "code",
   "execution_count": 8,
   "id": "4df029f3-d5f2-472a-bf27-74f18ef6c058",
   "metadata": {},
   "outputs": [],
   "source": [
    "# Merge the DataFrames based on their index columns\n",
    "merged_df = pd.merge(df_mpr_hourly, df_weather, left_index=True, right_index=True)"
   ]
  },
  {
   "cell_type": "code",
   "execution_count": 9,
   "id": "6d01a0ff-759d-4e1c-b498-a1d819776490",
   "metadata": {},
   "outputs": [
    {
     "data": {
      "application/vnd.jupyter.widget-view+json": {
       "model_id": "8a45a070349d431283c256a8f96c2ce6",
       "version_major": 2,
       "version_minor": 0
      },
      "text/plain": [
       "Summarize dataset:   0%|          | 0/5 [00:00<?, ?it/s]"
      ]
     },
     "metadata": {},
     "output_type": "display_data"
    },
    {
     "data": {
      "application/vnd.jupyter.widget-view+json": {
       "model_id": "0994cad660d14a6ebe4f5355d83dfe5b",
       "version_major": 2,
       "version_minor": 0
      },
      "text/plain": [
       "Generate report structure:   0%|          | 0/1 [00:00<?, ?it/s]"
      ]
     },
     "metadata": {},
     "output_type": "display_data"
    },
    {
     "data": {
      "application/vnd.jupyter.widget-view+json": {
       "model_id": "",
       "version_major": 2,
       "version_minor": 0
      },
      "text/plain": [
       "Render widgets:   0%|          | 0/1 [00:00<?, ?it/s]"
      ]
     },
     "metadata": {},
     "output_type": "display_data"
    },
    {
     "data": {
      "application/vnd.jupyter.widget-view+json": {
       "model_id": "dd66fcea95bb46c3a43e6f58a3fdb648",
       "version_major": 2,
       "version_minor": 0
      },
      "text/plain": [
       "VBox(children=(Tab(children=(Tab(children=(GridBox(children=(VBox(children=(GridspecLayout(children=(HTML(valu…"
      ]
     },
     "metadata": {},
     "output_type": "display_data"
    }
   ],
   "source": [
    "from ydata_profiling import ProfileReport\n",
    "profile = ProfileReport(merged_df, title=\"Profiling Report\")\n",
    "profile.to_widgets()"
   ]
  },
  {
   "cell_type": "code",
   "execution_count": 13,
   "id": "d59fd440-ec7c-44f9-83bd-ec3b757f9721",
   "metadata": {},
   "outputs": [],
   "source": [
    "merged_df['date'] = merged_df.index.date\n",
    "merged_df['time'] = merged_df.index.time"
   ]
  },
  {
   "cell_type": "code",
   "execution_count": 14,
   "id": "51479afd-793f-4778-9bfa-358035861250",
   "metadata": {},
   "outputs": [],
   "source": [
    "merged_df.to_csv('../data/merged_weather_mpr_data.csv', sep =',', header = True)"
   ]
  },
  {
   "cell_type": "code",
   "execution_count": null,
   "id": "e0c1f969-cb8c-4e6a-ac69-70deeff5dadc",
   "metadata": {},
   "outputs": [],
   "source": []
  }
 ],
 "metadata": {
  "kernelspec": {
   "display_name": "Python 3.8 - AzureML",
   "language": "python",
   "name": "python38-azureml"
  },
  "language_info": {
   "codemirror_mode": {
    "name": "ipython",
    "version": 3
   },
   "file_extension": ".py",
   "mimetype": "text/x-python",
   "name": "python",
   "nbconvert_exporter": "python",
   "pygments_lexer": "ipython3",
   "version": "3.8.5"
  }
 },
 "nbformat": 4,
 "nbformat_minor": 5
}
