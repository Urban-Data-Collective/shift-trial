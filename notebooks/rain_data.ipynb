{
 "cells": [
  {
   "cell_type": "code",
   "execution_count": 1,
   "id": "42d340d4-aba1-4f8c-ae12-cb8eec261df5",
   "metadata": {},
   "outputs": [],
   "source": [
    "# %pip install cdsapi"
   ]
  },
  {
   "cell_type": "code",
   "execution_count": 6,
   "id": "02095dbf-a6d3-433d-b878-f14cc6a4c3bf",
   "metadata": {},
   "outputs": [],
   "source": [
    "import os\n",
    "\n",
    "api_key = \"189586:2c9a82f3-46ff-4e11-aae6-6a8bcbe1bee5\"\n",
    "config_content = f\"url: https://cds.climate.copernicus.eu/api/v2\\nkey: {api_key}\\n\"\n",
    "\n",
    "# Determine the home directory path\n",
    "home_dir = os.path.expanduser(\"~\")\n",
    "\n",
    "# Create the .cdsapirc file with the configuration content\n",
    "with open(os.path.join(home_dir, \".cdsapirc\"), \"w\") as config_file:\n",
    "    config_file.write(config_content)"
   ]
  },
  {
   "cell_type": "code",
   "execution_count": 12,
   "id": "0c7909de-bc28-4219-b9fe-4c0e98bc1e36",
   "metadata": {},
   "outputs": [
    {
     "name": "stderr",
     "output_type": "stream",
     "text": [
      "2023-04-06 12:58:46,387 INFO Welcome to the CDS\n",
      "2023-04-06 12:58:46,388 INFO Sending request to https://cds.climate.copernicus.eu/api/v2/resources/reanalysis-era5-land\n",
      "2023-04-06 12:58:46,496 INFO Request is queued\n",
      "2023-04-06 12:58:47,554 INFO Request is running\n",
      "2023-04-06 13:13:06,953 INFO Request is completed\n",
      "2023-04-06 13:13:06,954 INFO Downloading https://download-0021.copernicus-climate.eu/cache-compute-0021/cache/data5/adaptor.mars.internal-1680786692.9199011-5602-19-cfae5403-717b-456c-b6ec-a9d8f6442805.nc to london_precipitation_2022.nc (41.3K)\n",
      "2023-04-06 13:13:07,478 INFO Download rate 78.9K/s\n"
     ]
    },
    {
     "data": {
      "text/plain": [
       "Result(content_length=42272,content_type=application/x-netcdf,location=https://download-0021.copernicus-climate.eu/cache-compute-0021/cache/data5/adaptor.mars.internal-1680786692.9199011-5602-19-cfae5403-717b-456c-b6ec-a9d8f6442805.nc)"
      ]
     },
     "execution_count": 12,
     "metadata": {},
     "output_type": "execute_result"
    }
   ],
   "source": [
    "import cdsapi\n",
    "\n",
    "c = cdsapi.Client()\n",
    "\n",
    "c.retrieve(\n",
    "    \"reanalysis-era5-land\",\n",
    "    {\n",
    "        \"variable\": [\"total_precipitation\", \"surface_solar_radiation_downwards\"],\n",
    "        \"year\": \"2022\",\n",
    "        \"month\": [\n",
    "            \"06\", \"07\", \"08\", \"09\", \"10\", \"11\", \"12\"\n",
    "        ],\n",
    "        \"day\": [\n",
    "            \"01\", \"02\", \"03\", \"04\", \"05\", \"06\", \"07\", \"08\", \"09\", \"10\",\n",
    "            \"11\", \"12\", \"13\", \"14\", \"15\", \"16\", \"17\", \"18\", \"19\", \"20\",\n",
    "            \"21\", \"22\", \"23\", \"24\", \"25\", \"26\", \"27\", \"28\", \"29\", \"30\", \"31\"\n",
    "        ],\n",
    "        \"time\": [\n",
    "            \"00:00\", \"01:00\", \"02:00\", \"03:00\", \"04:00\", \"05:00\",\n",
    "            \"06:00\", \"07:00\", \"08:00\", \"09:00\", \"10:00\", \"11:00\",\n",
    "            \"12:00\", \"13:00\", \"14:00\", \"15:00\", \"16:00\", \"17:00\",\n",
    "            \"18:00\", \"19:00\", \"20:00\", \"21:00\", \"22:00\", \"23:00\"\n",
    "        ],\n",
    "        \"area\": [51.53, -0.013, 51.53, -0.013],\n",
    "        \"format\": \"netcdf\",\n",
    "    },\n",
    "    \"london_precipitation_solar_radiation_2022.nc\",\n",
    ")"
   ]
  },
  {
   "cell_type": "code",
   "execution_count": 9,
   "id": "1ab9698a-034d-4c31-851e-381a6011bee4",
   "metadata": {},
   "outputs": [
    {
     "name": "stdout",
     "output_type": "stream",
     "text": [
      "Collecting xarray\n",
      "  Downloading xarray-2023.1.0-py3-none-any.whl (973 kB)\n",
      "\u001b[K     |████████████████████████████████| 973 kB 4.3 MB/s eta 0:00:01\n",
      "\u001b[?25hCollecting netcdf4\n",
      "  Downloading netCDF4-1.6.3-cp38-cp38-manylinux_2_17_x86_64.manylinux2014_x86_64.whl (5.2 MB)\n",
      "\u001b[K     |████████████████████████████████| 5.2 MB 80.9 MB/s eta 0:00:01\n",
      "\u001b[?25hRequirement already satisfied: numpy>=1.20 in /anaconda/envs/azureml_py38/lib/python3.8/site-packages (from xarray) (1.21.6)\n",
      "Requirement already satisfied: packaging>=21.3 in /anaconda/envs/azureml_py38/lib/python3.8/site-packages (from xarray) (21.3)\n",
      "Collecting pandas>=1.3\n",
      "  Downloading pandas-2.0.0-cp38-cp38-manylinux_2_17_x86_64.manylinux2014_x86_64.whl (12.3 MB)\n",
      "\u001b[K     |████████████████████████████████| 12.3 MB 71.5 MB/s eta 0:00:01\n",
      "\u001b[?25hCollecting cftime\n",
      "  Downloading cftime-1.6.2-cp38-cp38-manylinux_2_17_x86_64.manylinux2014_x86_64.whl (1.3 MB)\n",
      "\u001b[K     |████████████████████████████████| 1.3 MB 17.2 MB/s eta 0:00:01\n",
      "\u001b[?25hRequirement already satisfied: pyparsing!=3.0.5,>=2.0.2 in /anaconda/envs/azureml_py38/lib/python3.8/site-packages (from packaging>=21.3->xarray) (3.0.9)\n",
      "Requirement already satisfied: python-dateutil>=2.8.2 in /anaconda/envs/azureml_py38/lib/python3.8/site-packages (from pandas>=1.3->xarray) (2.8.2)\n",
      "Requirement already satisfied: tzdata>=2022.1 in /anaconda/envs/azureml_py38/lib/python3.8/site-packages (from pandas>=1.3->xarray) (2022.7)\n",
      "Requirement already satisfied: pytz>=2020.1 in /anaconda/envs/azureml_py38/lib/python3.8/site-packages (from pandas>=1.3->xarray) (2022.5)\n",
      "Requirement already satisfied: six>=1.5 in /anaconda/envs/azureml_py38/lib/python3.8/site-packages (from python-dateutil>=2.8.2->pandas>=1.3->xarray) (1.16.0)\n",
      "\u001b[31mERROR: pandas-ml 0.6.1 requires enum34, which is not installed.\u001b[0m\n",
      "\u001b[31mERROR: fbprophet 0.7.1 requires cmdstanpy==0.9.5, which is not installed.\u001b[0m\n",
      "\u001b[31mERROR: responsibleai 0.23.0 has requirement ipykernel<=6.6.0, but you'll have ipykernel 6.8.0 which is incompatible.\u001b[0m\n",
      "\u001b[31mERROR: responsibleai 0.23.0 has requirement numba<0.54.0, but you'll have numba 0.55.2 which is incompatible.\u001b[0m\n",
      "\u001b[31mERROR: raiwidgets 0.23.0 has requirement itsdangerous==2.0.1, but you'll have itsdangerous 2.1.2 which is incompatible.\u001b[0m\n",
      "\u001b[31mERROR: datasets 2.3.2 has requirement dill<0.3.6, but you'll have dill 0.3.6 which is incompatible.\u001b[0m\n",
      "\u001b[31mERROR: dask-sql 2022.12.0 has requirement dask[dataframe,distributed]<=2022.11.1,>=2022.3.0, but you'll have dask 2021.6.0 which is incompatible.\u001b[0m\n",
      "\u001b[31mERROR: azureml-training-tabular 1.48.0 has requirement pandas==1.1.5, but you'll have pandas 2.0.0 which is incompatible.\u001b[0m\n",
      "\u001b[31mERROR: azureml-train-automl-runtime 1.48.0 has requirement pandas==1.1.5, but you'll have pandas 2.0.0 which is incompatible.\u001b[0m\n",
      "\u001b[31mERROR: azureml-automl-runtime 1.48.0.post1 has requirement pandas==1.1.5, but you'll have pandas 2.0.0 which is incompatible.\u001b[0m\n",
      "\u001b[31mERROR: autokeras 1.0.16 has requirement tensorflow<=2.5.0,>=2.3.0, but you'll have tensorflow 2.2.1 which is incompatible.\u001b[0m\n",
      "Installing collected packages: pandas, xarray, cftime, netcdf4\n",
      "  Attempting uninstall: pandas\n",
      "    Found existing installation: pandas 1.1.5\n",
      "    Uninstalling pandas-1.1.5:\n",
      "      Successfully uninstalled pandas-1.1.5\n",
      "Successfully installed cftime-1.6.2 netcdf4-1.6.3 pandas-2.0.0 xarray-2023.1.0\n",
      "Note: you may need to restart the kernel to use updated packages.\n"
     ]
    }
   ],
   "source": [
    "# %pip install xarray netcdf4"
   ]
  },
  {
   "cell_type": "code",
   "execution_count": 13,
   "id": "40a56ef1-95a3-497e-a99e-4eb786be3d5a",
   "metadata": {},
   "outputs": [
    {
     "name": "stdout",
     "output_type": "stream",
     "text": [
      "   expver                date  precipitation\n",
      "0       1 2022-06-01 00:00:00       0.002379\n",
      "1       1 2022-06-01 01:00:00       0.000000\n",
      "2       1 2022-06-01 02:00:00       0.000000\n",
      "3       1 2022-06-01 03:00:00       0.000000\n",
      "4       1 2022-06-01 04:00:00       0.000000\n"
     ]
    }
   ],
   "source": [
    "import xarray as xr\n",
    "import pandas as pd\n",
    "\n",
    "# Load the NetCDF file using xarray\n",
    "dataset = xr.open_dataset(\"london_precipitation_2022.nc\")\n",
    "\n",
    "# Convert the xarray Dataset to a pandas DataFrame\n",
    "df = dataset.to_dataframe().reset_index()\n",
    "\n",
    "# Drop the latitude and longitude columns, as they are constant\n",
    "df = df.drop(columns=[\"latitude\", \"longitude\"])\n",
    "\n",
    "# Rename the columns for better readability\n",
    "df = df.rename(columns={\"time\": \"date\", \"tp\": \"precipitation\"})\n",
    "\n",
    "print(df.head())"
   ]
  },
  {
   "cell_type": "code",
   "execution_count": 24,
   "id": "a83ba8a0-9eaf-4f99-9c87-37a3f4d667ad",
   "metadata": {},
   "outputs": [
    {
     "data": {
      "text/plain": [
       "5136"
      ]
     },
     "execution_count": 24,
     "metadata": {},
     "output_type": "execute_result"
    }
   ],
   "source": [
    "len(df.dropna(subset=[\"precipitation\"]))"
   ]
  },
  {
   "cell_type": "code",
   "execution_count": 28,
   "id": "02a73abd-c17a-4af0-af9e-a874143952b2",
   "metadata": {},
   "outputs": [],
   "source": [
    "df = df.dropna(subset=[\"precipitation\"]).drop(columns = ['expver'])"
   ]
  },
  {
   "cell_type": "code",
   "execution_count": 29,
   "id": "ca380a0a-7017-4488-a0ca-8c09cf7c1fbf",
   "metadata": {},
   "outputs": [],
   "source": [
    "df.to_csv(\"../data/precipitation_data_london_jun_dec.csv\", sep=',', header = True)"
   ]
  },
  {
   "cell_type": "code",
   "execution_count": 30,
   "id": "24fb7357-0da8-4fc9-a1a4-f25173b65b43",
   "metadata": {},
   "outputs": [
    {
     "data": {
      "text/html": [
       "<div>\n",
       "<style scoped>\n",
       "    .dataframe tbody tr th:only-of-type {\n",
       "        vertical-align: middle;\n",
       "    }\n",
       "\n",
       "    .dataframe tbody tr th {\n",
       "        vertical-align: top;\n",
       "    }\n",
       "\n",
       "    .dataframe thead th {\n",
       "        text-align: right;\n",
       "    }\n",
       "</style>\n",
       "<table border=\"1\" class=\"dataframe\">\n",
       "  <thead>\n",
       "    <tr style=\"text-align: right;\">\n",
       "      <th></th>\n",
       "      <th>date</th>\n",
       "      <th>precipitation</th>\n",
       "    </tr>\n",
       "  </thead>\n",
       "  <tbody>\n",
       "    <tr>\n",
       "      <th>0</th>\n",
       "      <td>2022-06-01 00:00:00</td>\n",
       "      <td>0.002379</td>\n",
       "    </tr>\n",
       "    <tr>\n",
       "      <th>1</th>\n",
       "      <td>2022-06-01 01:00:00</td>\n",
       "      <td>0.000000</td>\n",
       "    </tr>\n",
       "    <tr>\n",
       "      <th>2</th>\n",
       "      <td>2022-06-01 02:00:00</td>\n",
       "      <td>0.000000</td>\n",
       "    </tr>\n",
       "    <tr>\n",
       "      <th>3</th>\n",
       "      <td>2022-06-01 03:00:00</td>\n",
       "      <td>0.000000</td>\n",
       "    </tr>\n",
       "    <tr>\n",
       "      <th>4</th>\n",
       "      <td>2022-06-01 04:00:00</td>\n",
       "      <td>0.000000</td>\n",
       "    </tr>\n",
       "    <tr>\n",
       "      <th>...</th>\n",
       "      <td>...</td>\n",
       "      <td>...</td>\n",
       "    </tr>\n",
       "    <tr>\n",
       "      <th>10267</th>\n",
       "      <td>2022-12-31 19:00:00</td>\n",
       "      <td>0.006940</td>\n",
       "    </tr>\n",
       "    <tr>\n",
       "      <th>10268</th>\n",
       "      <td>2022-12-31 20:00:00</td>\n",
       "      <td>0.007048</td>\n",
       "    </tr>\n",
       "    <tr>\n",
       "      <th>10269</th>\n",
       "      <td>2022-12-31 21:00:00</td>\n",
       "      <td>0.007385</td>\n",
       "    </tr>\n",
       "    <tr>\n",
       "      <th>10270</th>\n",
       "      <td>2022-12-31 22:00:00</td>\n",
       "      <td>0.007488</td>\n",
       "    </tr>\n",
       "    <tr>\n",
       "      <th>10271</th>\n",
       "      <td>2022-12-31 23:00:00</td>\n",
       "      <td>0.008523</td>\n",
       "    </tr>\n",
       "  </tbody>\n",
       "</table>\n",
       "<p>5136 rows × 2 columns</p>\n",
       "</div>"
      ],
      "text/plain": [
       "                     date  precipitation\n",
       "0     2022-06-01 00:00:00       0.002379\n",
       "1     2022-06-01 01:00:00       0.000000\n",
       "2     2022-06-01 02:00:00       0.000000\n",
       "3     2022-06-01 03:00:00       0.000000\n",
       "4     2022-06-01 04:00:00       0.000000\n",
       "...                   ...            ...\n",
       "10267 2022-12-31 19:00:00       0.006940\n",
       "10268 2022-12-31 20:00:00       0.007048\n",
       "10269 2022-12-31 21:00:00       0.007385\n",
       "10270 2022-12-31 22:00:00       0.007488\n",
       "10271 2022-12-31 23:00:00       0.008523\n",
       "\n",
       "[5136 rows x 2 columns]"
      ]
     },
     "metadata": {},
     "output_type": "display_data"
    }
   ],
   "source": [
    "display(df)"
   ]
  },
  {
   "cell_type": "code",
   "execution_count": 16,
   "id": "b94c1610-263d-4b6d-bfc5-97e9e8285c13",
   "metadata": {},
   "outputs": [
    {
     "name": "stdout",
     "output_type": "stream",
     "text": [
      "<xarray.Dataset>\n",
      "Dimensions:    (longitude: 1, latitude: 1, expver: 2, time: 5136)\n",
      "Coordinates:\n",
      "  * longitude  (longitude) float32 -0.013\n",
      "  * latitude   (latitude) float32 51.53\n",
      "  * expver     (expver) int32 1 5\n",
      "  * time       (time) datetime64[ns] 2022-06-01 ... 2022-12-31T23:00:00\n",
      "Data variables:\n",
      "    tp         (time, expver, latitude, longitude) float32 ...\n",
      "Attributes:\n",
      "    Conventions:  CF-1.6\n",
      "    history:      2023-04-06 13:11:45 GMT by grib_to_netcdf-2.25.1: /opt/ecmw...\n"
     ]
    }
   ],
   "source": [
    "import xarray as xr\n",
    "\n",
    "# Load the NetCDF file using xarray\n",
    "dataset = xr.open_dataset(\"london_precipitation_2022.nc\")\n",
    "\n",
    "# Inspect the dataset\n",
    "print(dataset)"
   ]
  },
  {
   "cell_type": "code",
   "execution_count": null,
   "id": "ff8f055b-6bd4-43f2-93c6-710284a33faf",
   "metadata": {},
   "outputs": [],
   "source": []
  }
 ],
 "metadata": {
  "kernelspec": {
   "display_name": "Python 3.8 - AzureML",
   "language": "python",
   "name": "python38-azureml"
  },
  "language_info": {
   "codemirror_mode": {
    "name": "ipython",
    "version": 3
   },
   "file_extension": ".py",
   "mimetype": "text/x-python",
   "name": "python",
   "nbconvert_exporter": "python",
   "pygments_lexer": "ipython3",
   "version": "3.8.10"
  }
 },
 "nbformat": 4,
 "nbformat_minor": 5
}
