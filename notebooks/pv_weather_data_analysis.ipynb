{
 "cells": [
  {
   "cell_type": "markdown",
   "id": "a85fcdea-dfc0-48f6-b3dd-07497d2a4eb2",
   "metadata": {},
   "source": [
    "## Introduction:\n",
    "This notebook is to preliminary analysis using PV data provided and combing it with weather data downloaded from meteostat."
   ]
  },
  {
   "cell_type": "code",
   "execution_count": 3,
   "id": "a33920bd-2b5c-4378-94f9-6fc1e99fe0b0",
   "metadata": {},
   "outputs": [],
   "source": [
    "import pandas as pd"
   ]
  },
  {
   "cell_type": "code",
   "execution_count": 4,
   "id": "1b05569a-10d4-4348-bd22-fd9df73a3938",
   "metadata": {},
   "outputs": [],
   "source": [
    "df_weather = pd.read_csv('../data/weather_data_london.csv', sep=',', header='infer')\n",
    "df_weather = df_weather.rename(columns={'time':'datetime'})\n",
    "df_pvc = pd.read_csv('../data/pvc_sensors.csv', sep=',', header='infer')\n",
    "df_pvc = df_pvc.rename(columns={'Date (UTC)':'datetime', '1200061435370 (kWh)': 'PV Panel A', '1200061695248 (kWh)':'PV Panel B'})"
   ]
  },
  {
   "cell_type": "code",
   "execution_count": 5,
   "id": "89e58e1b-ef38-4d2b-9ae0-fa74cd02fee4",
   "metadata": {},
   "outputs": [
    {
     "data": {
      "application/vnd.jupyter.widget-view+json": {
       "model_id": "494415b7af1a428a802e9c35c763d271",
       "version_major": 2,
       "version_minor": 0
      },
      "text/plain": [
       "Summarize dataset:   0%|          | 0/5 [00:00<?, ?it/s]"
      ]
     },
     "metadata": {},
     "output_type": "display_data"
    },
    {
     "data": {
      "application/vnd.jupyter.widget-view+json": {
       "model_id": "f1c770248e3342c0b5315b8a22174f65",
       "version_major": 2,
       "version_minor": 0
      },
      "text/plain": [
       "Generate report structure:   0%|          | 0/1 [00:00<?, ?it/s]"
      ]
     },
     "metadata": {},
     "output_type": "display_data"
    },
    {
     "data": {
      "application/vnd.jupyter.widget-view+json": {
       "model_id": "",
       "version_major": 2,
       "version_minor": 0
      },
      "text/plain": [
       "Render widgets:   0%|          | 0/1 [00:00<?, ?it/s]"
      ]
     },
     "metadata": {},
     "output_type": "display_data"
    },
    {
     "data": {
      "application/vnd.jupyter.widget-view+json": {
       "model_id": "948be28777514cfdb865a8a2094c763d",
       "version_major": 2,
       "version_minor": 0
      },
      "text/plain": [
       "VBox(children=(Tab(children=(Tab(children=(GridBox(children=(VBox(children=(GridspecLayout(children=(HTML(valu…"
      ]
     },
     "metadata": {},
     "output_type": "display_data"
    }
   ],
   "source": [
    "from ydata_profiling import ProfileReport\n",
    "profile = ProfileReport(df_pvc, title=\"Profiling Report\")\n",
    "profile.to_widgets()"
   ]
  },
  {
   "cell_type": "code",
   "execution_count": 6,
   "id": "ccf28077-85b6-428d-b493-28f1189f25a5",
   "metadata": {},
   "outputs": [],
   "source": [
    "#converting time column to datetime and making time as index column\n",
    "df_pvc['datetime'] = pd.to_datetime(df_pvc['datetime'], format = '%d/%m/%Y %H:%M')\n",
    "df_weather['datetime'] =pd.to_datetime(df_weather['datetime'], format = '%Y-%m-%d %H:%M:%S')"
   ]
  },
  {
   "cell_type": "code",
   "execution_count": 7,
   "id": "5c4a4ec7-ba9c-4280-9bfc-82c02512792d",
   "metadata": {},
   "outputs": [],
   "source": [
    "df_pvc['date'] = df_pvc['datetime'].dt.date\n",
    "df_pvc['time'] = df_pvc['datetime'].dt.time"
   ]
  },
  {
   "cell_type": "code",
   "execution_count": 8,
   "id": "2c969209-0cc4-4107-8f91-b75cd7aa6e58",
   "metadata": {},
   "outputs": [],
   "source": [
    "df_weather['date'] = df_weather['datetime'].dt.date\n",
    "df_weather['time'] = df_weather['datetime'].dt.time"
   ]
  },
  {
   "cell_type": "code",
   "execution_count": 9,
   "id": "cf1b1e96-112c-4d1c-88e4-376cced520c1",
   "metadata": {},
   "outputs": [],
   "source": [
    "df_pvc = df_pvc.set_index('datetime')\n",
    "df_weather = df_weather.set_index('datetime')"
   ]
  },
  {
   "cell_type": "code",
   "execution_count": 10,
   "id": "450773c1-1d56-4738-9152-097c414a08dd",
   "metadata": {},
   "outputs": [
    {
     "name": "stdout",
     "output_type": "stream",
     "text": [
      "The first date in the time series is 2022-02-21 00:00:00.\n",
      "The last date in the time series is 2023-02-19 23:30:00.\n"
     ]
    }
   ],
   "source": [
    "# Find the first and last dates in the index of the DataFrame\n",
    "first_date = df_pvc.index.min()\n",
    "last_date = df_pvc.index.max()\n",
    "# Print the results\n",
    "print(\"The first date in the time series is {}.\".format(first_date))\n",
    "print(\"The last date in the time series is {}.\".format(last_date))"
   ]
  },
  {
   "cell_type": "code",
   "execution_count": 11,
   "id": "ac8e2d89-444f-47be-b719-ff3009acf522",
   "metadata": {},
   "outputs": [],
   "source": [
    "#aggregate to hourly\n",
    "df_pvc_hourly = df_pvc.resample('H').mean()"
   ]
  },
  {
   "cell_type": "code",
   "execution_count": 12,
   "id": "7ec156b2-a347-468f-b4e9-5bec0b567596",
   "metadata": {},
   "outputs": [],
   "source": [
    "df_merged = pd.merge(df_pvc_hourly, df_weather, on ='datetime')"
   ]
  },
  {
   "cell_type": "code",
   "execution_count": 13,
   "id": "45a8e683-e01f-45ff-9dca-f11062a4dc3b",
   "metadata": {},
   "outputs": [
    {
     "data": {
      "text/html": [
       "<div>\n",
       "<style scoped>\n",
       "    .dataframe tbody tr th:only-of-type {\n",
       "        vertical-align: middle;\n",
       "    }\n",
       "\n",
       "    .dataframe tbody tr th {\n",
       "        vertical-align: top;\n",
       "    }\n",
       "\n",
       "    .dataframe thead th {\n",
       "        text-align: right;\n",
       "    }\n",
       "</style>\n",
       "<table border=\"1\" class=\"dataframe\">\n",
       "  <thead>\n",
       "    <tr style=\"text-align: right;\">\n",
       "      <th></th>\n",
       "      <th>PV Panel A</th>\n",
       "      <th>PV Panel B</th>\n",
       "      <th>temp</th>\n",
       "      <th>dwpt</th>\n",
       "      <th>rhum</th>\n",
       "      <th>prcp</th>\n",
       "      <th>snow</th>\n",
       "      <th>wdir</th>\n",
       "      <th>wspd</th>\n",
       "      <th>wpgt</th>\n",
       "      <th>pres</th>\n",
       "      <th>tsun</th>\n",
       "      <th>coco</th>\n",
       "      <th>date</th>\n",
       "      <th>time</th>\n",
       "    </tr>\n",
       "    <tr>\n",
       "      <th>datetime</th>\n",
       "      <th></th>\n",
       "      <th></th>\n",
       "      <th></th>\n",
       "      <th></th>\n",
       "      <th></th>\n",
       "      <th></th>\n",
       "      <th></th>\n",
       "      <th></th>\n",
       "      <th></th>\n",
       "      <th></th>\n",
       "      <th></th>\n",
       "      <th></th>\n",
       "      <th></th>\n",
       "      <th></th>\n",
       "      <th></th>\n",
       "    </tr>\n",
       "  </thead>\n",
       "  <tbody>\n",
       "    <tr>\n",
       "      <th>2022-02-21 00:00:00</th>\n",
       "      <td>0.0</td>\n",
       "      <td>0.0</td>\n",
       "      <td>4.5</td>\n",
       "      <td>-0.7</td>\n",
       "      <td>69.0</td>\n",
       "      <td>NaN</td>\n",
       "      <td>NaN</td>\n",
       "      <td>267.0</td>\n",
       "      <td>35.2</td>\n",
       "      <td>53.7</td>\n",
       "      <td>1003.0</td>\n",
       "      <td>NaN</td>\n",
       "      <td>2.0</td>\n",
       "      <td>2022-02-21</td>\n",
       "      <td>00:00:00</td>\n",
       "    </tr>\n",
       "    <tr>\n",
       "      <th>2022-02-21 01:00:00</th>\n",
       "      <td>0.0</td>\n",
       "      <td>0.0</td>\n",
       "      <td>3.9</td>\n",
       "      <td>-0.9</td>\n",
       "      <td>71.0</td>\n",
       "      <td>NaN</td>\n",
       "      <td>NaN</td>\n",
       "      <td>267.0</td>\n",
       "      <td>35.2</td>\n",
       "      <td>53.7</td>\n",
       "      <td>1003.2</td>\n",
       "      <td>NaN</td>\n",
       "      <td>2.0</td>\n",
       "      <td>2022-02-21</td>\n",
       "      <td>01:00:00</td>\n",
       "    </tr>\n",
       "    <tr>\n",
       "      <th>2022-02-21 02:00:00</th>\n",
       "      <td>0.0</td>\n",
       "      <td>0.0</td>\n",
       "      <td>3.7</td>\n",
       "      <td>-1.1</td>\n",
       "      <td>71.0</td>\n",
       "      <td>NaN</td>\n",
       "      <td>NaN</td>\n",
       "      <td>266.0</td>\n",
       "      <td>35.2</td>\n",
       "      <td>55.5</td>\n",
       "      <td>1003.3</td>\n",
       "      <td>NaN</td>\n",
       "      <td>2.0</td>\n",
       "      <td>2022-02-21</td>\n",
       "      <td>02:00:00</td>\n",
       "    </tr>\n",
       "    <tr>\n",
       "      <th>2022-02-21 03:00:00</th>\n",
       "      <td>0.0</td>\n",
       "      <td>0.0</td>\n",
       "      <td>3.7</td>\n",
       "      <td>-1.1</td>\n",
       "      <td>71.0</td>\n",
       "      <td>NaN</td>\n",
       "      <td>NaN</td>\n",
       "      <td>264.0</td>\n",
       "      <td>37.0</td>\n",
       "      <td>55.5</td>\n",
       "      <td>1003.3</td>\n",
       "      <td>NaN</td>\n",
       "      <td>2.0</td>\n",
       "      <td>2022-02-21</td>\n",
       "      <td>03:00:00</td>\n",
       "    </tr>\n",
       "    <tr>\n",
       "      <th>2022-02-21 04:00:00</th>\n",
       "      <td>0.0</td>\n",
       "      <td>0.0</td>\n",
       "      <td>3.8</td>\n",
       "      <td>-0.6</td>\n",
       "      <td>73.0</td>\n",
       "      <td>NaN</td>\n",
       "      <td>NaN</td>\n",
       "      <td>268.0</td>\n",
       "      <td>35.2</td>\n",
       "      <td>51.8</td>\n",
       "      <td>1003.3</td>\n",
       "      <td>NaN</td>\n",
       "      <td>2.0</td>\n",
       "      <td>2022-02-21</td>\n",
       "      <td>04:00:00</td>\n",
       "    </tr>\n",
       "    <tr>\n",
       "      <th>...</th>\n",
       "      <td>...</td>\n",
       "      <td>...</td>\n",
       "      <td>...</td>\n",
       "      <td>...</td>\n",
       "      <td>...</td>\n",
       "      <td>...</td>\n",
       "      <td>...</td>\n",
       "      <td>...</td>\n",
       "      <td>...</td>\n",
       "      <td>...</td>\n",
       "      <td>...</td>\n",
       "      <td>...</td>\n",
       "      <td>...</td>\n",
       "      <td>...</td>\n",
       "      <td>...</td>\n",
       "    </tr>\n",
       "    <tr>\n",
       "      <th>2023-02-19 19:00:00</th>\n",
       "      <td>0.0</td>\n",
       "      <td>0.0</td>\n",
       "      <td>8.2</td>\n",
       "      <td>5.0</td>\n",
       "      <td>80.0</td>\n",
       "      <td>NaN</td>\n",
       "      <td>NaN</td>\n",
       "      <td>244.0</td>\n",
       "      <td>13.0</td>\n",
       "      <td>24.1</td>\n",
       "      <td>1027.1</td>\n",
       "      <td>NaN</td>\n",
       "      <td>2.0</td>\n",
       "      <td>2023-02-19</td>\n",
       "      <td>19:00:00</td>\n",
       "    </tr>\n",
       "    <tr>\n",
       "      <th>2023-02-19 20:00:00</th>\n",
       "      <td>0.0</td>\n",
       "      <td>0.0</td>\n",
       "      <td>7.6</td>\n",
       "      <td>4.5</td>\n",
       "      <td>81.0</td>\n",
       "      <td>NaN</td>\n",
       "      <td>NaN</td>\n",
       "      <td>241.0</td>\n",
       "      <td>14.8</td>\n",
       "      <td>25.9</td>\n",
       "      <td>1027.1</td>\n",
       "      <td>NaN</td>\n",
       "      <td>2.0</td>\n",
       "      <td>2023-02-19</td>\n",
       "      <td>20:00:00</td>\n",
       "    </tr>\n",
       "    <tr>\n",
       "      <th>2023-02-19 21:00:00</th>\n",
       "      <td>0.0</td>\n",
       "      <td>0.0</td>\n",
       "      <td>7.1</td>\n",
       "      <td>4.6</td>\n",
       "      <td>84.0</td>\n",
       "      <td>NaN</td>\n",
       "      <td>NaN</td>\n",
       "      <td>244.0</td>\n",
       "      <td>16.7</td>\n",
       "      <td>27.8</td>\n",
       "      <td>1027.1</td>\n",
       "      <td>NaN</td>\n",
       "      <td>2.0</td>\n",
       "      <td>2023-02-19</td>\n",
       "      <td>21:00:00</td>\n",
       "    </tr>\n",
       "    <tr>\n",
       "      <th>2023-02-19 22:00:00</th>\n",
       "      <td>0.0</td>\n",
       "      <td>0.0</td>\n",
       "      <td>7.1</td>\n",
       "      <td>4.6</td>\n",
       "      <td>84.0</td>\n",
       "      <td>NaN</td>\n",
       "      <td>NaN</td>\n",
       "      <td>240.0</td>\n",
       "      <td>14.8</td>\n",
       "      <td>24.1</td>\n",
       "      <td>1026.7</td>\n",
       "      <td>NaN</td>\n",
       "      <td>2.0</td>\n",
       "      <td>2023-02-19</td>\n",
       "      <td>22:00:00</td>\n",
       "    </tr>\n",
       "    <tr>\n",
       "      <th>2023-02-19 23:00:00</th>\n",
       "      <td>0.0</td>\n",
       "      <td>0.0</td>\n",
       "      <td>6.8</td>\n",
       "      <td>4.6</td>\n",
       "      <td>86.0</td>\n",
       "      <td>NaN</td>\n",
       "      <td>NaN</td>\n",
       "      <td>240.0</td>\n",
       "      <td>16.7</td>\n",
       "      <td>27.8</td>\n",
       "      <td>1026.5</td>\n",
       "      <td>NaN</td>\n",
       "      <td>2.0</td>\n",
       "      <td>2023-02-19</td>\n",
       "      <td>23:00:00</td>\n",
       "    </tr>\n",
       "  </tbody>\n",
       "</table>\n",
       "<p>8473 rows × 15 columns</p>\n",
       "</div>"
      ],
      "text/plain": [
       "                     PV Panel A  PV Panel B  temp  dwpt  rhum  prcp  snow  \\\n",
       "datetime                                                                    \n",
       "2022-02-21 00:00:00         0.0         0.0   4.5  -0.7  69.0   NaN   NaN   \n",
       "2022-02-21 01:00:00         0.0         0.0   3.9  -0.9  71.0   NaN   NaN   \n",
       "2022-02-21 02:00:00         0.0         0.0   3.7  -1.1  71.0   NaN   NaN   \n",
       "2022-02-21 03:00:00         0.0         0.0   3.7  -1.1  71.0   NaN   NaN   \n",
       "2022-02-21 04:00:00         0.0         0.0   3.8  -0.6  73.0   NaN   NaN   \n",
       "...                         ...         ...   ...   ...   ...   ...   ...   \n",
       "2023-02-19 19:00:00         0.0         0.0   8.2   5.0  80.0   NaN   NaN   \n",
       "2023-02-19 20:00:00         0.0         0.0   7.6   4.5  81.0   NaN   NaN   \n",
       "2023-02-19 21:00:00         0.0         0.0   7.1   4.6  84.0   NaN   NaN   \n",
       "2023-02-19 22:00:00         0.0         0.0   7.1   4.6  84.0   NaN   NaN   \n",
       "2023-02-19 23:00:00         0.0         0.0   6.8   4.6  86.0   NaN   NaN   \n",
       "\n",
       "                      wdir  wspd  wpgt    pres  tsun  coco        date  \\\n",
       "datetime                                                                 \n",
       "2022-02-21 00:00:00  267.0  35.2  53.7  1003.0   NaN   2.0  2022-02-21   \n",
       "2022-02-21 01:00:00  267.0  35.2  53.7  1003.2   NaN   2.0  2022-02-21   \n",
       "2022-02-21 02:00:00  266.0  35.2  55.5  1003.3   NaN   2.0  2022-02-21   \n",
       "2022-02-21 03:00:00  264.0  37.0  55.5  1003.3   NaN   2.0  2022-02-21   \n",
       "2022-02-21 04:00:00  268.0  35.2  51.8  1003.3   NaN   2.0  2022-02-21   \n",
       "...                    ...   ...   ...     ...   ...   ...         ...   \n",
       "2023-02-19 19:00:00  244.0  13.0  24.1  1027.1   NaN   2.0  2023-02-19   \n",
       "2023-02-19 20:00:00  241.0  14.8  25.9  1027.1   NaN   2.0  2023-02-19   \n",
       "2023-02-19 21:00:00  244.0  16.7  27.8  1027.1   NaN   2.0  2023-02-19   \n",
       "2023-02-19 22:00:00  240.0  14.8  24.1  1026.7   NaN   2.0  2023-02-19   \n",
       "2023-02-19 23:00:00  240.0  16.7  27.8  1026.5   NaN   2.0  2023-02-19   \n",
       "\n",
       "                         time  \n",
       "datetime                       \n",
       "2022-02-21 00:00:00  00:00:00  \n",
       "2022-02-21 01:00:00  01:00:00  \n",
       "2022-02-21 02:00:00  02:00:00  \n",
       "2022-02-21 03:00:00  03:00:00  \n",
       "2022-02-21 04:00:00  04:00:00  \n",
       "...                       ...  \n",
       "2023-02-19 19:00:00  19:00:00  \n",
       "2023-02-19 20:00:00  20:00:00  \n",
       "2023-02-19 21:00:00  21:00:00  \n",
       "2023-02-19 22:00:00  22:00:00  \n",
       "2023-02-19 23:00:00  23:00:00  \n",
       "\n",
       "[8473 rows x 15 columns]"
      ]
     },
     "metadata": {},
     "output_type": "display_data"
    }
   ],
   "source": [
    "display(df_merged)"
   ]
  },
  {
   "cell_type": "code",
   "execution_count": 15,
   "id": "b205f3d5-0db3-43bc-a693-cb40d7147edd",
   "metadata": {},
   "outputs": [],
   "source": [
    "# df_merged.to_csv('../data/merged_weather_data.csv', sep =',', header = True)"
   ]
  },
  {
   "cell_type": "code",
   "execution_count": 16,
   "id": "91194ba0-8f31-4d50-b088-cd1adb317a82",
   "metadata": {},
   "outputs": [],
   "source": [
    "# %pip install ydata-profiling"
   ]
  },
  {
   "cell_type": "code",
   "execution_count": 17,
   "id": "8f590568-b4eb-4501-b4bc-4e7b2d9cf4b2",
   "metadata": {},
   "outputs": [
    {
     "data": {
      "application/vnd.jupyter.widget-view+json": {
       "model_id": "1d0786e533c64f82843c68e25f3f5a62",
       "version_major": 2,
       "version_minor": 0
      },
      "text/plain": [
       "Summarize dataset:   0%|          | 0/5 [00:00<?, ?it/s]"
      ]
     },
     "metadata": {},
     "output_type": "display_data"
    },
    {
     "data": {
      "application/vnd.jupyter.widget-view+json": {
       "model_id": "c179980db5d04069adbabfd246f1c4ad",
       "version_major": 2,
       "version_minor": 0
      },
      "text/plain": [
       "Generate report structure:   0%|          | 0/1 [00:00<?, ?it/s]"
      ]
     },
     "metadata": {},
     "output_type": "display_data"
    },
    {
     "data": {
      "application/vnd.jupyter.widget-view+json": {
       "model_id": "",
       "version_major": 2,
       "version_minor": 0
      },
      "text/plain": [
       "Render widgets:   0%|          | 0/1 [00:00<?, ?it/s]"
      ]
     },
     "metadata": {},
     "output_type": "display_data"
    },
    {
     "data": {
      "application/vnd.jupyter.widget-view+json": {
       "model_id": "ed8bc545759a4e2c872c1d125c2fe714",
       "version_major": 2,
       "version_minor": 0
      },
      "text/plain": [
       "VBox(children=(Tab(children=(Tab(children=(GridBox(children=(VBox(children=(GridspecLayout(children=(HTML(valu…"
      ]
     },
     "metadata": {},
     "output_type": "display_data"
    }
   ],
   "source": [
    "from ydata_profiling import ProfileReport\n",
    "profile1 = ProfileReport(df_merged, title=\"Profiling Report\")\n",
    "profile1.to_widgets()"
   ]
  },
  {
   "cell_type": "code",
   "execution_count": 18,
   "id": "5450c50f-9e8b-4d83-b351-af3be1f9c5f1",
   "metadata": {},
   "outputs": [],
   "source": [
    "import matplotlib.pyplot as plt"
   ]
  },
  {
   "cell_type": "code",
   "execution_count": 19,
   "id": "fe9be012-2f5e-4bc1-b895-853a64d1f5e5",
   "metadata": {},
   "outputs": [
    {
     "data": {
      "image/png": "[encoded data removed]",
      "text/plain": [
       "<Figure size 432x288 with 1 Axes>"
      ]
     },
     "metadata": {
      "needs_background": "light"
     },
     "output_type": "display_data"
    }
   ],
   "source": [
    "# plot the time series\n",
    "plt.plot(df_merged['PV Panel A'].values)\n",
    "plt.xlabel('time')\n",
    "plt.ylabel('Value')\n",
    "plt.show()"
   ]
  },
  {
   "cell_type": "code",
   "execution_count": 20,
   "id": "2ac163c8-a864-4115-b108-9039ad2fc054",
   "metadata": {},
   "outputs": [],
   "source": [
    "# 1. remove rows where column has nan values\n",
    "# 2. take only that riw where sensor has greater than 0 value\n",
    "# check correlation again."
   ]
  },
  {
   "cell_type": "code",
   "execution_count": null,
   "id": "0644e3d9-3c21-4b6c-aea8-31ae3d80df02",
   "metadata": {},
   "outputs": [],
   "source": [
    "df1 = df_merged[df_merged['sensor A'].notna()]"
   ]
  },
  {
   "cell_type": "code",
   "execution_count": null,
   "id": "f77c7641-06cc-48b9-b795-4a84242a86b6",
   "metadata": {},
   "outputs": [],
   "source": [
    "# df2 = df1[df1['sensor A']>0]"
   ]
  },
  {
   "cell_type": "code",
   "execution_count": null,
   "id": "764e171c-825f-4bdc-a00a-713838102188",
   "metadata": {},
   "outputs": [],
   "source": [
    "# df2.to_csv('weather-data/merged_data_filtered.csv', sep =',', header = True)"
   ]
  },
  {
   "cell_type": "code",
   "execution_count": null,
   "id": "2435cfe5-158b-438d-b354-0cbde75767d2",
   "metadata": {},
   "outputs": [],
   "source": [
    "# display(df2)"
   ]
  },
  {
   "cell_type": "code",
   "execution_count": null,
   "id": "e2c68b7e-5b68-49b7-b93d-b9b9f1ede75c",
   "metadata": {},
   "outputs": [],
   "source": [
    "# profile1 = ProfileReport(df2, title=\"Profiling Report 2\")"
   ]
  },
  {
   "cell_type": "code",
   "execution_count": null,
   "id": "e3e6ef39-4ee2-4512-9790-01cd4fbfca9e",
   "metadata": {},
   "outputs": [],
   "source": [
    "# profile1.to_widgets()"
   ]
  },
  {
   "cell_type": "code",
   "execution_count": null,
   "id": "6b8012d7-e2e1-481d-8288-6eca68e50e6e",
   "metadata": {},
   "outputs": [],
   "source": []
  },
  {
   "cell_type": "code",
   "execution_count": null,
   "id": "5c35b012-a5b5-4d0f-b423-83176f47cf88",
   "metadata": {},
   "outputs": [],
   "source": []
  }
 ],
 "metadata": {
  "kernelspec": {
   "display_name": "Python 3.8 - AzureML",
   "language": "python",
   "name": "python38-azureml"
  },
  "language_info": {
   "codemirror_mode": {
    "name": "ipython",
    "version": 3
   },
   "file_extension": ".py",
   "mimetype": "text/x-python",
   "name": "python",
   "nbconvert_exporter": "python",
   "pygments_lexer": "ipython3",
   "version": "3.8.5"
  }
 },
 "nbformat": 4,
 "nbformat_minor": 5
}
