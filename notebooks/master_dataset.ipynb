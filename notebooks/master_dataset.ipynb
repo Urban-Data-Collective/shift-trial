{
 "cells": [
  {
   "cell_type": "markdown",
   "id": "a85fcdea-dfc0-48f6-b3dd-07497d2a4eb2",
   "metadata": {},
   "source": [
    "## Introduction:\n",
    "This notebook is to preliminary analysis using PV data provided and combing it with weather data downloaded from meteostat."
   ]
  },
  {
   "cell_type": "code",
   "execution_count": 1,
   "id": "a33920bd-2b5c-4378-94f9-6fc1e99fe0b0",
   "metadata": {},
   "outputs": [],
   "source": [
    "import pandas as pd\n",
    "import datetime\n",
    "start_date = datetime.datetime(2022, 7, 1)\n",
    "end_date = datetime.datetime(2022, 12, 31)"
   ]
  },
  {
   "cell_type": "code",
   "execution_count": 2,
   "id": "86bc38b7-320f-46e8-9f42-440833d4dd5c",
   "metadata": {},
   "outputs": [],
   "source": [
    "df_aet = pd.read_csv('../data/aet_air_quality_hourly_24June2022_18feb2023.csv', sep=',', header='infer').rename(columns={'timestamp':'datetime'})\n",
    "df_aet['datetime'] = pd.to_datetime(df_aet['datetime'], format = '%Y-%m-%d %H:%M:%S')\n",
    "df_aet = df_aet.set_index('datetime')\n",
    "df_aet = df_aet.loc[start_date:end_date]"
   ]
  },
  {
   "cell_type": "code",
   "execution_count": 3,
   "id": "1a6f6224-ac23-470e-b54d-d001c3e870da",
   "metadata": {},
   "outputs": [
    {
     "data": {
      "text/plain": [
       "4393"
      ]
     },
     "execution_count": 3,
     "metadata": {},
     "output_type": "execute_result"
    }
   ],
   "source": [
    "len(df_aet)"
   ]
  },
  {
   "cell_type": "code",
   "execution_count": 4,
   "id": "73240485-13ae-447b-bc73-ec0666bd678d",
   "metadata": {},
   "outputs": [],
   "source": [
    "df_weather = pd.read_csv('../data/weather_data_london.csv', sep=',', header='infer').rename(columns={'time':'datetime'})\n",
    "df_weather['datetime'] =pd.to_datetime(df_weather['datetime'], format = '%Y-%m-%d %H:%M:%S')\n",
    "df_weather = df_weather.set_index('datetime')\n",
    "df_weather = df_weather.loc[start_date:end_date]"
   ]
  },
  {
   "cell_type": "code",
   "execution_count": 5,
   "id": "3cfc99b7-5503-4995-bddd-62fa8c77165b",
   "metadata": {},
   "outputs": [
    {
     "data": {
      "text/plain": [
       "4393"
      ]
     },
     "execution_count": 5,
     "metadata": {},
     "output_type": "execute_result"
    }
   ],
   "source": [
    "len(df_weather)"
   ]
  },
  {
   "cell_type": "code",
   "execution_count": 6,
   "id": "d164499a-2a68-498b-ad5a-a611498c8fc3",
   "metadata": {},
   "outputs": [],
   "source": [
    "df_pvc = pd.read_csv('../data/pvc_sensors.csv', sep=',', header='infer').drop(columns=['Type', 'Type.1']).rename(\n",
    "    columns={'Date (UTC)':'datetime', '1200061435370 (kWh)': 'PV Panel A', '1200061695248 (kWh)':'PV Panel B'})\n",
    "df_pvc['datetime'] = pd.to_datetime(df_pvc['datetime'], format = '%d/%m/%Y %H:%M')\n",
    "df_pvc = df_pvc.set_index('datetime')\n",
    "df_pvc = df_pvc.loc[start_date:end_date]\n",
    "#aggregate to hourly\n",
    "df_pvc_hourly = df_pvc.resample('H').mean()"
   ]
  },
  {
   "cell_type": "code",
   "execution_count": 7,
   "id": "2dff741e-6c74-44e7-a485-f9f82dc9474f",
   "metadata": {},
   "outputs": [
    {
     "data": {
      "text/plain": [
       "4393"
      ]
     },
     "execution_count": 7,
     "metadata": {},
     "output_type": "execute_result"
    }
   ],
   "source": [
    "len(df_pvc_hourly)"
   ]
  },
  {
   "cell_type": "code",
   "execution_count": 8,
   "id": "92cd254f-cc26-4609-b507-018293d233b6",
   "metadata": {},
   "outputs": [],
   "source": [
    "df_prec = pd.read_csv('../data/precipitation_data_london_jun_dec.csv', sep =',', header = 'infer').drop(columns = ['Unnamed: 0']).rename(\n",
    "    columns={'date':'datetime'})\n",
    "df_prec['datetime'] = pd.to_datetime(df_prec['datetime'], format = '%Y-%m-%d %H:%M:%S')\n",
    "df_prec = df_prec.set_index('datetime')\n",
    "df_prec = df_prec.loc[start_date:end_date]\n"
   ]
  },
  {
   "cell_type": "code",
   "execution_count": 9,
   "id": "80e5f2d6-42c9-40ed-b8f4-5e676154c3af",
   "metadata": {},
   "outputs": [
    {
     "data": {
      "text/html": [
       "<div>\n",
       "<style scoped>\n",
       "    .dataframe tbody tr th:only-of-type {\n",
       "        vertical-align: middle;\n",
       "    }\n",
       "\n",
       "    .dataframe tbody tr th {\n",
       "        vertical-align: top;\n",
       "    }\n",
       "\n",
       "    .dataframe thead th {\n",
       "        text-align: right;\n",
       "    }\n",
       "</style>\n",
       "<table border=\"1\" class=\"dataframe\">\n",
       "  <thead>\n",
       "    <tr style=\"text-align: right;\">\n",
       "      <th></th>\n",
       "      <th>precipitation</th>\n",
       "    </tr>\n",
       "    <tr>\n",
       "      <th>datetime</th>\n",
       "      <th></th>\n",
       "    </tr>\n",
       "  </thead>\n",
       "  <tbody>\n",
       "    <tr>\n",
       "      <th>2022-07-01 00:00:00</th>\n",
       "      <td>0.000979</td>\n",
       "    </tr>\n",
       "    <tr>\n",
       "      <th>2022-07-01 01:00:00</th>\n",
       "      <td>0.000000</td>\n",
       "    </tr>\n",
       "    <tr>\n",
       "      <th>2022-07-01 02:00:00</th>\n",
       "      <td>0.000002</td>\n",
       "    </tr>\n",
       "    <tr>\n",
       "      <th>2022-07-01 03:00:00</th>\n",
       "      <td>0.000005</td>\n",
       "    </tr>\n",
       "    <tr>\n",
       "      <th>2022-07-01 04:00:00</th>\n",
       "      <td>0.000109</td>\n",
       "    </tr>\n",
       "    <tr>\n",
       "      <th>...</th>\n",
       "      <td>...</td>\n",
       "    </tr>\n",
       "    <tr>\n",
       "      <th>2022-12-30 20:00:00</th>\n",
       "      <td>0.005902</td>\n",
       "    </tr>\n",
       "    <tr>\n",
       "      <th>2022-12-30 21:00:00</th>\n",
       "      <td>0.005902</td>\n",
       "    </tr>\n",
       "    <tr>\n",
       "      <th>2022-12-30 22:00:00</th>\n",
       "      <td>0.005998</td>\n",
       "    </tr>\n",
       "    <tr>\n",
       "      <th>2022-12-30 23:00:00</th>\n",
       "      <td>0.006031</td>\n",
       "    </tr>\n",
       "    <tr>\n",
       "      <th>2022-12-31 00:00:00</th>\n",
       "      <td>0.006252</td>\n",
       "    </tr>\n",
       "  </tbody>\n",
       "</table>\n",
       "<p>4393 rows × 1 columns</p>\n",
       "</div>"
      ],
      "text/plain": [
       "                     precipitation\n",
       "datetime                          \n",
       "2022-07-01 00:00:00       0.000979\n",
       "2022-07-01 01:00:00       0.000000\n",
       "2022-07-01 02:00:00       0.000002\n",
       "2022-07-01 03:00:00       0.000005\n",
       "2022-07-01 04:00:00       0.000109\n",
       "...                            ...\n",
       "2022-12-30 20:00:00       0.005902\n",
       "2022-12-30 21:00:00       0.005902\n",
       "2022-12-30 22:00:00       0.005998\n",
       "2022-12-30 23:00:00       0.006031\n",
       "2022-12-31 00:00:00       0.006252\n",
       "\n",
       "[4393 rows x 1 columns]"
      ]
     },
     "metadata": {},
     "output_type": "display_data"
    }
   ],
   "source": [
    "display(df_prec)"
   ]
  },
  {
   "cell_type": "markdown",
   "id": "877683cd-4748-4455-9634-9448e0a455aa",
   "metadata": {},
   "source": [
    "### Combining data"
   ]
  },
  {
   "cell_type": "code",
   "execution_count": 10,
   "id": "a9a5a0b4-fd0f-4750-8949-32b3f970703c",
   "metadata": {},
   "outputs": [],
   "source": [
    "df1 = pd.merge(df_aet,df_pvc_hourly, on = 'datetime')\n",
    "df2 = pd.merge(df_prec, df_weather, on ='datetime')\n",
    "df_total = pd.merge(df1, df2, on = 'datetime')\n",
    "df_total = df_total.drop(columns = ['prcp', 'snow', 'tsun', 'pm_10_from', 'pm_2_5_from'])"
   ]
  },
  {
   "cell_type": "code",
   "execution_count": 11,
   "id": "1e59e656-a62d-40bc-84e2-e287cd7a0ce9",
   "metadata": {},
   "outputs": [
    {
     "data": {
      "text/plain": [
       "Index(['deviceID', 'label', 'temperature_celsius', 'humidity_percent',\n",
       "       'battery_volt', 'pressure_hpa', 'pm_1_ug_per_m3', 'pm_2_5_ug_per_m3',\n",
       "       'pm_10_ug_per_m3', 'PV Panel A', 'PV Panel B', 'precipitation', 'temp',\n",
       "       'dwpt', 'rhum', 'wdir', 'wspd', 'wpgt', 'pres', 'coco'],\n",
       "      dtype='object')"
      ]
     },
     "execution_count": 11,
     "metadata": {},
     "output_type": "execute_result"
    }
   ],
   "source": [
    "df_total.columns"
   ]
  },
  {
   "cell_type": "markdown",
   "id": "33d039ed-bf48-4d10-a494-3205aa2c54fe",
   "metadata": {},
   "source": [
    "### Generating yprofile analysis"
   ]
  },
  {
   "cell_type": "markdown",
   "id": "4a1732c7-ace4-4af3-903c-b226ea109cb7",
   "metadata": {},
   "source": [
    "dataset is big, either we can aggregate it to daily basis or else can create a profile on monthly baiss"
   ]
  },
  {
   "cell_type": "code",
   "execution_count": 12,
   "id": "e44bf0af-5288-4fa4-b46f-6e0b1bdbeeb2",
   "metadata": {},
   "outputs": [],
   "source": [
    "# %pip install ydata-profiling"
   ]
  },
  {
   "cell_type": "code",
   "execution_count": 13,
   "id": "6e3200e0-49a6-407c-90b2-29f1bd5f146b",
   "metadata": {},
   "outputs": [
    {
     "name": "stdout",
     "output_type": "stream",
     "text": [
      "Pandas version: 1.5.3\n"
     ]
    }
   ],
   "source": [
    "import pandas as pd\n",
    "\n",
    "print(\"Pandas version:\", pd.__version__)"
   ]
  },
  {
   "cell_type": "code",
   "execution_count": 14,
   "id": "783a4c34-a058-4973-9ba4-3e1bfd939361",
   "metadata": {},
   "outputs": [],
   "source": [
    "df_total_aug = df_total[df_total.index.month ==8][['temperature_celsius', 'humidity_percent',\n",
    "       'pressure_hpa', 'pm_1_ug_per_m3', 'pm_2_5_ug_per_m3',\n",
    "       'pm_10_ug_per_m3', 'PV Panel A', 'PV Panel B', 'precipitation', 'temp',\n",
    "       'dwpt', 'rhum', 'wdir', 'wspd', 'wpgt', 'pres']]"
   ]
  },
  {
   "cell_type": "code",
   "execution_count": 66,
   "id": "fe05e78c-5ef0-45a2-8eec-936f2d4f12c7",
   "metadata": {},
   "outputs": [],
   "source": [
    "df_total_aug = df_total[df_total.index.month ==8][['dwpt', 'rhum', 'wdir', 'wspd', 'wpgt', 'pres']]"
   ]
  },
  {
   "cell_type": "code",
   "execution_count": 15,
   "id": "37549927-d003-4fd1-b2c9-381efc0d2ba7",
   "metadata": {},
   "outputs": [
    {
     "name": "stdout",
     "output_type": "stream",
     "text": [
      "Are there any null values in the DataFrame?\n",
      "False\n"
     ]
    }
   ],
   "source": [
    "print(\"Are there any null values in the DataFrame?\")\n",
    "print(df_total_aug.isnull().any().any())"
   ]
  },
  {
   "cell_type": "markdown",
   "id": "6b2f4ba1-b578-4796-a94b-7a646cbc68bf",
   "metadata": {},
   "source": [
    "***this error might be with the latest version of pandas.***"
   ]
  },
  {
   "cell_type": "code",
   "execution_count": null,
   "id": "89e58e1b-ef38-4d2b-9ae0-fa74cd02fee4",
   "metadata": {},
   "outputs": [
    {
     "data": {
      "application/vnd.jupyter.widget-view+json": {
       "model_id": "e6e1c684672b438ea84dff895d6ecc19",
       "version_major": 2,
       "version_minor": 0
      },
      "text/plain": [
       "Summarize dataset:   0%|          | 0/5 [00:00<?, ?it/s]"
      ]
     },
     "metadata": {},
     "output_type": "display_data"
    },
    {
     "data": {
      "application/vnd.jupyter.widget-view+json": {
       "model_id": "effa1af7442f455687a77abaecf6bacd",
       "version_major": 2,
       "version_minor": 0
      },
      "text/plain": [
       "Generate report structure:   0%|          | 0/1 [00:00<?, ?it/s]"
      ]
     },
     "metadata": {},
     "output_type": "display_data"
    },
    {
     "data": {
      "application/vnd.jupyter.widget-view+json": {
       "model_id": "78069f8fd6914b5fbe407a963eae360c",
       "version_major": 2,
       "version_minor": 0
      },
      "text/plain": [
       "Render widgets:   0%|          | 0/1 [00:00<?, ?it/s]"
      ]
     },
     "metadata": {},
     "output_type": "display_data"
    }
   ],
   "source": [
    "from ydata_profiling import ProfileReport\n",
    "profile = ProfileReport(df_total_aug, title=\"Profiling Report\")\n",
    "profile.to_widgets()"
   ]
  },
  {
   "cell_type": "code",
   "execution_count": null,
   "id": "aeba8bce-479e-4980-aa7b-f0f3235a627d",
   "metadata": {},
   "outputs": [],
   "source": []
  }
 ],
 "metadata": {
  "kernelspec": {
   "display_name": "Python 3.8 - AzureML",
   "language": "python",
   "name": "python38-azureml"
  },
  "language_info": {
   "codemirror_mode": {
    "name": "ipython",
    "version": 3
   },
   "file_extension": ".py",
   "mimetype": "text/x-python",
   "name": "python",
   "nbconvert_exporter": "python",
   "pygments_lexer": "ipython3",
   "version": "3.8.10"
  }
 },
 "nbformat": 4,
 "nbformat_minor": 5
}
